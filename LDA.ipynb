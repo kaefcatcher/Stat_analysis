{
 "cells": [
  {
   "cell_type": "code",
   "execution_count": 3,
   "id": "d1dd990c",
   "metadata": {},
   "outputs": [],
   "source": [
    "import pandas as pd\n",
    "from sklearn.discriminant_analysis import LinearDiscriminantAnalysis\n",
    "from scipy.linalg import eigvals\n",
    "import numpy as np"
   ]
  },
  {
   "cell_type": "code",
   "execution_count": 4,
   "id": "58ad6423",
   "metadata": {},
   "outputs": [],
   "source": [
    "data = pd.read_excel('mod2.xlsx')\n",
    "feature_names = data.columns[1:7].tolist()\n",
    "target_name = data.columns[8]\n",
    "features = data.iloc[:, 1:7].values\n",
    "target = data[target_name].values"
   ]
  },
  {
   "cell_type": "code",
   "execution_count": 5,
   "id": "8a4f790e",
   "metadata": {},
   "outputs": [],
   "source": [
    "lda = LinearDiscriminantAnalysis()"
   ]
  },
  {
   "cell_type": "code",
   "execution_count": 6,
   "id": "a56eeadc",
   "metadata": {},
   "outputs": [
    {
     "data": {
      "text/html": [
       "<style>#sk-container-id-1 {color: black;background-color: white;}#sk-container-id-1 pre{padding: 0;}#sk-container-id-1 div.sk-toggleable {background-color: white;}#sk-container-id-1 label.sk-toggleable__label {cursor: pointer;display: block;width: 100%;margin-bottom: 0;padding: 0.3em;box-sizing: border-box;text-align: center;}#sk-container-id-1 label.sk-toggleable__label-arrow:before {content: \"▸\";float: left;margin-right: 0.25em;color: #696969;}#sk-container-id-1 label.sk-toggleable__label-arrow:hover:before {color: black;}#sk-container-id-1 div.sk-estimator:hover label.sk-toggleable__label-arrow:before {color: black;}#sk-container-id-1 div.sk-toggleable__content {max-height: 0;max-width: 0;overflow: hidden;text-align: left;background-color: #f0f8ff;}#sk-container-id-1 div.sk-toggleable__content pre {margin: 0.2em;color: black;border-radius: 0.25em;background-color: #f0f8ff;}#sk-container-id-1 input.sk-toggleable__control:checked~div.sk-toggleable__content {max-height: 200px;max-width: 100%;overflow: auto;}#sk-container-id-1 input.sk-toggleable__control:checked~label.sk-toggleable__label-arrow:before {content: \"▾\";}#sk-container-id-1 div.sk-estimator input.sk-toggleable__control:checked~label.sk-toggleable__label {background-color: #d4ebff;}#sk-container-id-1 div.sk-label input.sk-toggleable__control:checked~label.sk-toggleable__label {background-color: #d4ebff;}#sk-container-id-1 input.sk-hidden--visually {border: 0;clip: rect(1px 1px 1px 1px);clip: rect(1px, 1px, 1px, 1px);height: 1px;margin: -1px;overflow: hidden;padding: 0;position: absolute;width: 1px;}#sk-container-id-1 div.sk-estimator {font-family: monospace;background-color: #f0f8ff;border: 1px dotted black;border-radius: 0.25em;box-sizing: border-box;margin-bottom: 0.5em;}#sk-container-id-1 div.sk-estimator:hover {background-color: #d4ebff;}#sk-container-id-1 div.sk-parallel-item::after {content: \"\";width: 100%;border-bottom: 1px solid gray;flex-grow: 1;}#sk-container-id-1 div.sk-label:hover label.sk-toggleable__label {background-color: #d4ebff;}#sk-container-id-1 div.sk-serial::before {content: \"\";position: absolute;border-left: 1px solid gray;box-sizing: border-box;top: 0;bottom: 0;left: 50%;z-index: 0;}#sk-container-id-1 div.sk-serial {display: flex;flex-direction: column;align-items: center;background-color: white;padding-right: 0.2em;padding-left: 0.2em;position: relative;}#sk-container-id-1 div.sk-item {position: relative;z-index: 1;}#sk-container-id-1 div.sk-parallel {display: flex;align-items: stretch;justify-content: center;background-color: white;position: relative;}#sk-container-id-1 div.sk-item::before, #sk-container-id-1 div.sk-parallel-item::before {content: \"\";position: absolute;border-left: 1px solid gray;box-sizing: border-box;top: 0;bottom: 0;left: 50%;z-index: -1;}#sk-container-id-1 div.sk-parallel-item {display: flex;flex-direction: column;z-index: 1;position: relative;background-color: white;}#sk-container-id-1 div.sk-parallel-item:first-child::after {align-self: flex-end;width: 50%;}#sk-container-id-1 div.sk-parallel-item:last-child::after {align-self: flex-start;width: 50%;}#sk-container-id-1 div.sk-parallel-item:only-child::after {width: 0;}#sk-container-id-1 div.sk-dashed-wrapped {border: 1px dashed gray;margin: 0 0.4em 0.5em 0.4em;box-sizing: border-box;padding-bottom: 0.4em;background-color: white;}#sk-container-id-1 div.sk-label label {font-family: monospace;font-weight: bold;display: inline-block;line-height: 1.2em;}#sk-container-id-1 div.sk-label-container {text-align: center;}#sk-container-id-1 div.sk-container {/* jupyter's `normalize.less` sets `[hidden] { display: none; }` but bootstrap.min.css set `[hidden] { display: none !important; }` so we also need the `!important` here to be able to override the default hidden behavior on the sphinx rendered scikit-learn.org. See: https://github.com/scikit-learn/scikit-learn/issues/21755 */display: inline-block !important;position: relative;}#sk-container-id-1 div.sk-text-repr-fallback {display: none;}</style><div id=\"sk-container-id-1\" class=\"sk-top-container\"><div class=\"sk-text-repr-fallback\"><pre>LinearDiscriminantAnalysis()</pre><b>In a Jupyter environment, please rerun this cell to show the HTML representation or trust the notebook. <br />On GitHub, the HTML representation is unable to render, please try loading this page with nbviewer.org.</b></div><div class=\"sk-container\" hidden><div class=\"sk-item\"><div class=\"sk-estimator sk-toggleable\"><input class=\"sk-toggleable__control sk-hidden--visually\" id=\"sk-estimator-id-1\" type=\"checkbox\" checked><label for=\"sk-estimator-id-1\" class=\"sk-toggleable__label sk-toggleable__label-arrow\">LinearDiscriminantAnalysis</label><div class=\"sk-toggleable__content\"><pre>LinearDiscriminantAnalysis()</pre></div></div></div></div></div>"
      ],
      "text/plain": [
       "LinearDiscriminantAnalysis()"
      ]
     },
     "execution_count": 6,
     "metadata": {},
     "output_type": "execute_result"
    }
   ],
   "source": [
    "lda.fit(features, target)"
   ]
  },
  {
   "cell_type": "code",
   "execution_count": 7,
   "id": "5171fb0b",
   "metadata": {},
   "outputs": [],
   "source": [
    "discriminant_function = lda.transform(features)"
   ]
  },
  {
   "cell_type": "code",
   "execution_count": 8,
   "id": "bccf9a9e",
   "metadata": {},
   "outputs": [],
   "source": [
    "score = lda.score(features, target)"
   ]
  },
  {
   "cell_type": "code",
   "execution_count": 9,
   "id": "b84b23a3",
   "metadata": {
    "scrolled": true
   },
   "outputs": [
    {
     "name": "stdout",
     "output_type": "stream",
     "text": [
      "Дискриминантная функция:\n",
      "[[ 0.74091446]\n",
      " [ 0.5483133 ]\n",
      " [-0.56224479]\n",
      " [ 0.05937733]\n",
      " [-1.20757235]\n",
      " [ 0.51560511]\n",
      " [ 0.70586179]\n",
      " [-0.48004769]\n",
      " [ 0.74106786]\n",
      " [ 1.20642514]\n",
      " [-0.26218924]\n",
      " [-1.0880955 ]\n",
      " [ 1.06364917]\n",
      " [ 1.10733337]\n",
      " [ 2.43974552]\n",
      " [ 0.84037759]\n",
      " [ 0.00385563]\n",
      " [ 0.58751376]\n",
      " [-0.41172116]\n",
      " [ 0.67837924]\n",
      " [ 0.57668659]\n",
      " [-2.17137268]\n",
      " [ 0.6555758 ]\n",
      " [ 0.58840228]\n",
      " [ 1.63220273]\n",
      " [ 0.93932934]\n",
      " [ 0.94442792]\n",
      " [ 1.55534599]\n",
      " [ 0.71408066]\n",
      " [ 1.15810614]\n",
      " [ 0.9667412 ]\n",
      " [ 0.47610494]\n",
      " [-1.1884799 ]\n",
      " [-1.16317222]\n",
      " [ 0.52103234]\n",
      " [-1.16902671]\n",
      " [-1.40089434]\n",
      " [ 0.47271493]\n",
      " [ 0.86343797]\n",
      " [ 0.84515554]\n",
      " [ 1.04868095]\n",
      " [-1.03386255]\n",
      " [-1.02213191]\n",
      " [-2.75616649]\n",
      " [-3.36061726]\n",
      " [ 0.54408167]\n",
      " [ 0.67089506]\n",
      " [ 1.17239298]\n",
      " [ 1.60819083]\n",
      " [ 1.19579669]\n",
      " [ 0.66496889]\n",
      " [-0.0561726 ]\n",
      " [ 2.42667995]\n",
      " [-0.67673211]\n",
      " [ 0.18349726]\n",
      " [-0.8862119 ]\n",
      " [-0.25883576]\n",
      " [-1.40471208]\n",
      " [-2.37048772]\n",
      " [-0.60508015]\n",
      " [-0.67575235]\n",
      " [-1.10133986]\n",
      " [-1.83668326]\n",
      " [ 0.31559773]\n",
      " [-3.40667306]\n",
      " [ 0.92588973]\n",
      " [ 0.01515139]\n",
      " [-0.64862704]\n",
      " [-0.42517456]\n",
      " [-1.28950957]]\n",
      "\n",
      "Оценка значимости дискриминантной функции:\n",
      "0.7428571428571429\n"
     ]
    }
   ],
   "source": [
    "print(\"Дискриминантная функция:\")\n",
    "print(discriminant_function)\n",
    "print(\"\\nОценка значимости дискриминантной функции:\")\n",
    "print(score)"
   ]
  },
  {
   "cell_type": "code",
   "execution_count": 10,
   "id": "1964021e",
   "metadata": {},
   "outputs": [
    {
     "name": "stdout",
     "output_type": "stream",
     "text": [
      "[[-0.06788379  0.03762632 -0.0453725  -0.0004673  -0.11132358  0.08076227]]\n"
     ]
    }
   ],
   "source": [
    "print(lda.coef_)"
   ]
  },
  {
   "cell_type": "code",
   "execution_count": 11,
   "id": "9b2805a0",
   "metadata": {},
   "outputs": [
    {
     "name": "stdout",
     "output_type": "stream",
     "text": [
      "Относительный вклад каждой переменной:\n",
      "Индекс потребительских цен, 2010 г.=100: 0.636458883978744\n",
      "Экспорт товаров и услуг, доля в процентах от ВВП: -0.35277360676557407\n",
      "Импорт товаров и услуг, доля в процентах от ВВП: 0.42539948985529535\n",
      "Обменный курс, единиц национальной валюты за долл. США: 0.004381226674423885\n",
      "Уровень безработицы, %: 1.0437378905331687\n",
      "ВВП на душу населения в ценах и ППС(США) 2010 г., темп роста: -0.7572038842760579\n"
     ]
    }
   ],
   "source": [
    "contributions = lda.coef_[0] / lda.coef_.sum()\n",
    "\n",
    "# Вывод относительного вклада каждой переменной\n",
    "print(\"Относительный вклад каждой переменной:\")\n",
    "for i, feature_name in enumerate(feature_names):\n",
    "    print(f\"{feature_name}: {contributions[i]}\")"
   ]
  },
  {
   "cell_type": "code",
   "execution_count": 12,
   "id": "d47861df",
   "metadata": {},
   "outputs": [
    {
     "name": "stdout",
     "output_type": "stream",
     "text": [
      "\n",
      "Средние значения дискриминантной функции по группам:\n",
      "Группа 0: -0.6613715756598637\n",
      "Группа 1: 0.785378746096087\n"
     ]
    }
   ],
   "source": [
    "discriminant_function = lda.transform(features)\n",
    "\n",
    "# Разделение дискриминантной функции по группам\n",
    "group_labels = sorted(set(target))\n",
    "group_means = []\n",
    "for label in group_labels:\n",
    "    group_means.append(discriminant_function[target == label].mean())\n",
    "\n",
    "# Вывод средних значений дискриминантной функции по группам\n",
    "print(\"\\nСредние значения дискриминантной функции по группам:\")\n",
    "for i, label in enumerate(group_labels):\n",
    "    print(f\"Группа {label}: {group_means[i]}\")"
   ]
  },
  {
   "cell_type": "code",
   "execution_count": 18,
   "id": "a567fb32",
   "metadata": {},
   "outputs": [
    {
     "name": "stdout",
     "output_type": "stream",
     "text": [
      "Результаты для исходных данных:\n"
     ]
    },
    {
     "data": {
      "text/html": [
       "<div>\n",
       "<style scoped>\n",
       "    .dataframe tbody tr th:only-of-type {\n",
       "        vertical-align: middle;\n",
       "    }\n",
       "\n",
       "    .dataframe tbody tr th {\n",
       "        vertical-align: top;\n",
       "    }\n",
       "\n",
       "    .dataframe thead th {\n",
       "        text-align: right;\n",
       "    }\n",
       "</style>\n",
       "<table border=\"1\" class=\"dataframe\">\n",
       "  <thead>\n",
       "    <tr style=\"text-align: right;\">\n",
       "      <th></th>\n",
       "      <th>Страна</th>\n",
       "      <th>Реальный класс</th>\n",
       "      <th>Предсказанный класс</th>\n",
       "      <th>Вероятности</th>\n",
       "    </tr>\n",
       "  </thead>\n",
       "  <tbody>\n",
       "    <tr>\n",
       "      <th>0</th>\n",
       "      <td>Австрия</td>\n",
       "      <td>1</td>\n",
       "      <td>1</td>\n",
       "      <td>[0.30781287790785994, 0.6921871220921401]</td>\n",
       "    </tr>\n",
       "    <tr>\n",
       "      <th>1</th>\n",
       "      <td>Азербайджан</td>\n",
       "      <td>0</td>\n",
       "      <td>1</td>\n",
       "      <td>[0.37011616979998474, 0.6298838302000153]</td>\n",
       "    </tr>\n",
       "    <tr>\n",
       "      <th>2</th>\n",
       "      <td>Албания</td>\n",
       "      <td>0</td>\n",
       "      <td>0</td>\n",
       "      <td>[0.7455431603920459, 0.25445683960795407]</td>\n",
       "    </tr>\n",
       "    <tr>\n",
       "      <th>3</th>\n",
       "      <td>Андорра</td>\n",
       "      <td>1</td>\n",
       "      <td>0</td>\n",
       "      <td>[0.5437998928887993, 0.4562001071112008]</td>\n",
       "    </tr>\n",
       "    <tr>\n",
       "      <th>4</th>\n",
       "      <td>Армения</td>\n",
       "      <td>0</td>\n",
       "      <td>0</td>\n",
       "      <td>[0.881698076511216, 0.11830192348878397]</td>\n",
       "    </tr>\n",
       "    <tr>\n",
       "      <th>...</th>\n",
       "      <td>...</td>\n",
       "      <td>...</td>\n",
       "      <td>...</td>\n",
       "      <td>...</td>\n",
       "    </tr>\n",
       "    <tr>\n",
       "      <th>65</th>\n",
       "      <td>Малайзия</td>\n",
       "      <td>0</td>\n",
       "      <td>1</td>\n",
       "      <td>[0.2538889856018002, 0.7461110143981998]</td>\n",
       "    </tr>\n",
       "    <tr>\n",
       "      <th>66</th>\n",
       "      <td>Сингапур</td>\n",
       "      <td>1</td>\n",
       "      <td>0</td>\n",
       "      <td>[0.559623376062989, 0.44037662393701105]</td>\n",
       "    </tr>\n",
       "    <tr>\n",
       "      <th>67</th>\n",
       "      <td>Соломоновы острова</td>\n",
       "      <td>0</td>\n",
       "      <td>0</td>\n",
       "      <td>[0.7685168385663672, 0.2314831614336328]</td>\n",
       "    </tr>\n",
       "    <tr>\n",
       "      <th>68</th>\n",
       "      <td>Уругвай</td>\n",
       "      <td>0</td>\n",
       "      <td>0</td>\n",
       "      <td>[0.7061328082470882, 0.29386719175291176]</td>\n",
       "    </tr>\n",
       "    <tr>\n",
       "      <th>69</th>\n",
       "      <td>Зимбабве</td>\n",
       "      <td>0</td>\n",
       "      <td>0</td>\n",
       "      <td>[0.8935143679438897, 0.10648563205611027]</td>\n",
       "    </tr>\n",
       "  </tbody>\n",
       "</table>\n",
       "<p>70 rows × 4 columns</p>\n",
       "</div>"
      ],
      "text/plain": [
       "                Страна  Реальный класс  Предсказанный класс   \n",
       "0              Австрия               1                    1  \\\n",
       "1          Азербайджан               0                    1   \n",
       "2              Албания               0                    0   \n",
       "3              Андорра               1                    0   \n",
       "4              Армения               0                    0   \n",
       "..                 ...             ...                  ...   \n",
       "65            Малайзия               0                    1   \n",
       "66            Сингапур               1                    0   \n",
       "67  Соломоновы острова               0                    0   \n",
       "68             Уругвай               0                    0   \n",
       "69            Зимбабве               0                    0   \n",
       "\n",
       "                                  Вероятности  \n",
       "0   [0.30781287790785994, 0.6921871220921401]  \n",
       "1   [0.37011616979998474, 0.6298838302000153]  \n",
       "2   [0.7455431603920459, 0.25445683960795407]  \n",
       "3    [0.5437998928887993, 0.4562001071112008]  \n",
       "4    [0.881698076511216, 0.11830192348878397]  \n",
       "..                                        ...  \n",
       "65   [0.2538889856018002, 0.7461110143981998]  \n",
       "66   [0.559623376062989, 0.44037662393701105]  \n",
       "67   [0.7685168385663672, 0.2314831614336328]  \n",
       "68  [0.7061328082470882, 0.29386719175291176]  \n",
       "69  [0.8935143679438897, 0.10648563205611027]  \n",
       "\n",
       "[70 rows x 4 columns]"
      ]
     },
     "execution_count": 18,
     "metadata": {},
     "output_type": "execute_result"
    }
   ],
   "source": [
    "predicted_classes = lda.predict(features)\n",
    "probabilities = lda.predict_proba(features)\n",
    "\n",
    "# Вывод результатов для исходных данных\n",
    "results = pd.DataFrame({'Страна': data.iloc[:, 0],'Реальный класс':data.iloc[:, 8],\n",
    "                        'Предсказанный класс': predicted_classes,\n",
    "                        'Вероятности': [p.tolist() for p in probabilities]})\n",
    "print(\"Результаты для исходных данных:\")\n",
    "results\n"
   ]
  },
  {
   "cell_type": "code",
   "execution_count": 21,
   "id": "5360f1b7",
   "metadata": {
    "scrolled": false
   },
   "outputs": [
    {
     "name": "stdout",
     "output_type": "stream",
     "text": [
      "Результаты для новых данных:\n"
     ]
    },
    {
     "data": {
      "text/html": [
       "<div>\n",
       "<style scoped>\n",
       "    .dataframe tbody tr th:only-of-type {\n",
       "        vertical-align: middle;\n",
       "    }\n",
       "\n",
       "    .dataframe tbody tr th {\n",
       "        vertical-align: top;\n",
       "    }\n",
       "\n",
       "    .dataframe thead th {\n",
       "        text-align: right;\n",
       "    }\n",
       "</style>\n",
       "<table border=\"1\" class=\"dataframe\">\n",
       "  <thead>\n",
       "    <tr style=\"text-align: right;\">\n",
       "      <th></th>\n",
       "      <th>Страна</th>\n",
       "      <th>Реальный класс</th>\n",
       "      <th>Предсказанный класс</th>\n",
       "      <th>Вероятности</th>\n",
       "    </tr>\n",
       "  </thead>\n",
       "  <tbody>\n",
       "    <tr>\n",
       "      <th>0</th>\n",
       "      <td>Беларусь</td>\n",
       "      <td>0</td>\n",
       "      <td>0</td>\n",
       "      <td>[0.9999999962916455, 3.7083545256441943e-09]</td>\n",
       "    </tr>\n",
       "    <tr>\n",
       "      <th>1</th>\n",
       "      <td>ЦАР</td>\n",
       "      <td>0</td>\n",
       "      <td>0</td>\n",
       "      <td>[1.0, 1.8658705788479776e-28]</td>\n",
       "    </tr>\n",
       "    <tr>\n",
       "      <th>2</th>\n",
       "      <td>Хорватия</td>\n",
       "      <td>0</td>\n",
       "      <td>1</td>\n",
       "      <td>[0.39180122492122915, 0.6081987750787708]</td>\n",
       "    </tr>\n",
       "  </tbody>\n",
       "</table>\n",
       "</div>"
      ],
      "text/plain": [
       "     Страна  Реальный класс  Предсказанный класс   \n",
       "0  Беларусь               0                    0  \\\n",
       "1       ЦАР               0                    0   \n",
       "2  Хорватия               0                    1   \n",
       "\n",
       "                                    Вероятности  \n",
       "0  [0.9999999962916455, 3.7083545256441943e-09]  \n",
       "1                 [1.0, 1.8658705788479776e-28]  \n",
       "2     [0.39180122492122915, 0.6081987750787708]  "
      ]
     },
     "execution_count": 21,
     "metadata": {},
     "output_type": "execute_result"
    }
   ],
   "source": [
    "# Загрузка новых объектов из xlsx файла\n",
    "new_data = pd.read_excel('test.xlsx')\n",
    "\n",
    "# Извлечение признаков новых объектов\n",
    "new_features = new_data.iloc[:, 1:7].values\n",
    "\n",
    "# Классификация новых объектов\n",
    "new_predicted_classes = lda.predict(new_features)\n",
    "new_probabilities = lda.predict_proba(new_features)\n",
    "\n",
    "new_results = pd.DataFrame({'Страна': new_data.iloc[:, 0],'Реальный класс':new_data.iloc[:, 8],\n",
    "                            'Предсказанный класс': new_predicted_classes,\n",
    "                            'Вероятности': [p.tolist() for p in new_probabilities]})\n",
    "print(\"Результаты для новых данных:\")\n",
    "new_results"
   ]
  },
  {
   "cell_type": "code",
   "execution_count": 15,
   "id": "86beb413",
   "metadata": {},
   "outputs": [
    {
     "name": "stdout",
     "output_type": "stream",
     "text": [
      "0.7428571428571429\n"
     ]
    }
   ],
   "source": [
    "lambda_wilks = lda.score(features, target)\n",
    "print(lambda_wilks)"
   ]
  },
  {
   "cell_type": "code",
   "execution_count": 16,
   "id": "cffe7175",
   "metadata": {},
   "outputs": [
    {
     "name": "stdout",
     "output_type": "stream",
     "text": [
      "Среднее значение дискриминантной функции по группам:\n",
      "Группа 1: -0.6613715756598637\n",
      "Группа 2: 0.785378746096087\n"
     ]
    }
   ],
   "source": [
    "discriminant_values = lda.transform(features)\n",
    "group1_values = discriminant_values[target == 0]\n",
    "group2_values = discriminant_values[target == 1]\n",
    "print(\"Среднее значение дискриминантной функции по группам:\")\n",
    "print(\"Группа 1:\", group1_values.mean())\n",
    "print(\"Группа 2:\", group2_values.mean())"
   ]
  },
  {
   "cell_type": "code",
   "execution_count": 17,
   "id": "b57bda0c",
   "metadata": {},
   "outputs": [
    {
     "name": "stdout",
     "output_type": "stream",
     "text": [
      "Explained Variance Ratio for Class 1: 1.0\n"
     ]
    }
   ],
   "source": [
    "explained_variance = lda.explained_variance_ratio_\n",
    "for i, ratio in enumerate(explained_variance):\n",
    "    print(f\"Explained Variance Ratio for Class {i+1}: {ratio}\")\n",
    "\n",
    "\n"
   ]
  },
  {
   "cell_type": "code",
   "execution_count": null,
   "id": "0b4246bb",
   "metadata": {},
   "outputs": [],
   "source": []
  }
 ],
 "metadata": {
  "kernelspec": {
   "display_name": "Python 3 (ipykernel)",
   "language": "python",
   "name": "python3"
  },
  "language_info": {
   "codemirror_mode": {
    "name": "ipython",
    "version": 3
   },
   "file_extension": ".py",
   "mimetype": "text/x-python",
   "name": "python",
   "nbconvert_exporter": "python",
   "pygments_lexer": "ipython3",
   "version": "3.10.6"
  }
 },
 "nbformat": 4,
 "nbformat_minor": 5
}
