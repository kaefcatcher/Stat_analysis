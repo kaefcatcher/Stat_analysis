{
 "cells": [
  {
   "cell_type": "code",
   "execution_count": 68,
   "metadata": {},
   "outputs": [],
   "source": [
    "import numpy as np\n",
    "import pandas as pd\n",
    "from sklearn.linear_model import LinearRegression\n",
    "from sklearn.model_selection import train_test_split\n",
    "from sklearn.metrics import r2_score\n",
    "import matplotlib.pyplot as plt\n",
    "from sklearn.preprocessing import PolynomialFeatures\n",
    "from scipy.stats import shapiro,boxcox,mannwhitneyu,fligner, ttest_ind\n",
    "import warnings"
   ]
  },
  {
   "cell_type": "code",
   "execution_count": 69,
   "metadata": {},
   "outputs": [
    {
     "data": {
      "text/html": [
       "<div>\n",
       "<style scoped>\n",
       "    .dataframe tbody tr th:only-of-type {\n",
       "        vertical-align: middle;\n",
       "    }\n",
       "\n",
       "    .dataframe tbody tr th {\n",
       "        vertical-align: top;\n",
       "    }\n",
       "\n",
       "    .dataframe thead th {\n",
       "        text-align: right;\n",
       "    }\n",
       "</style>\n",
       "<table border=\"1\" class=\"dataframe\">\n",
       "  <thead>\n",
       "    <tr style=\"text-align: right;\">\n",
       "      <th></th>\n",
       "      <th>Y</th>\n",
       "      <th>X1</th>\n",
       "      <th>X2</th>\n",
       "      <th>X3</th>\n",
       "      <th>X4</th>\n",
       "    </tr>\n",
       "  </thead>\n",
       "  <tbody>\n",
       "    <tr>\n",
       "      <th>0</th>\n",
       "      <td>31.2</td>\n",
       "      <td>492.9</td>\n",
       "      <td>37.3</td>\n",
       "      <td>54.7</td>\n",
       "      <td>77.4</td>\n",
       "    </tr>\n",
       "    <tr>\n",
       "      <th>1</th>\n",
       "      <td>33.3</td>\n",
       "      <td>528.6</td>\n",
       "      <td>38.1</td>\n",
       "      <td>63.7</td>\n",
       "      <td>80.2</td>\n",
       "    </tr>\n",
       "    <tr>\n",
       "      <th>2</th>\n",
       "      <td>35.6</td>\n",
       "      <td>560.3</td>\n",
       "      <td>39.3</td>\n",
       "      <td>69.8</td>\n",
       "      <td>80.4</td>\n",
       "    </tr>\n",
       "    <tr>\n",
       "      <th>3</th>\n",
       "      <td>36.4</td>\n",
       "      <td>624.6</td>\n",
       "      <td>37.8</td>\n",
       "      <td>65.9</td>\n",
       "      <td>83.9</td>\n",
       "    </tr>\n",
       "    <tr>\n",
       "      <th>4</th>\n",
       "      <td>36.7</td>\n",
       "      <td>666.4</td>\n",
       "      <td>38.4</td>\n",
       "      <td>64.5</td>\n",
       "      <td>85.5</td>\n",
       "    </tr>\n",
       "    <tr>\n",
       "      <th>...</th>\n",
       "      <td>...</td>\n",
       "      <td>...</td>\n",
       "      <td>...</td>\n",
       "      <td>...</td>\n",
       "      <td>...</td>\n",
       "    </tr>\n",
       "    <tr>\n",
       "      <th>14</th>\n",
       "      <td>46.7</td>\n",
       "      <td>1575.5</td>\n",
       "      <td>63.7</td>\n",
       "      <td>130.9</td>\n",
       "      <td>165.5</td>\n",
       "    </tr>\n",
       "    <tr>\n",
       "      <th>15</th>\n",
       "      <td>50.6</td>\n",
       "      <td>1759.1</td>\n",
       "      <td>61.6</td>\n",
       "      <td>129.8</td>\n",
       "      <td>203.3</td>\n",
       "    </tr>\n",
       "    <tr>\n",
       "      <th>16</th>\n",
       "      <td>50.1</td>\n",
       "      <td>1994.2</td>\n",
       "      <td>58.9</td>\n",
       "      <td>128.0</td>\n",
       "      <td>219.6</td>\n",
       "    </tr>\n",
       "    <tr>\n",
       "      <th>17</th>\n",
       "      <td>51.7</td>\n",
       "      <td>2258.1</td>\n",
       "      <td>66.4</td>\n",
       "      <td>141.0</td>\n",
       "      <td>221.6</td>\n",
       "    </tr>\n",
       "    <tr>\n",
       "      <th>18</th>\n",
       "      <td>52.9</td>\n",
       "      <td>2478.7</td>\n",
       "      <td>70.4</td>\n",
       "      <td>168.2</td>\n",
       "      <td>232.6</td>\n",
       "    </tr>\n",
       "  </tbody>\n",
       "</table>\n",
       "<p>19 rows × 5 columns</p>\n",
       "</div>"
      ],
      "text/plain": [
       "       Y      X1    X2     X3     X4\n",
       "0   31.2   492.9  37.3   54.7   77.4\n",
       "1   33.3   528.6  38.1   63.7   80.2\n",
       "2   35.6   560.3  39.3   69.8   80.4\n",
       "3   36.4   624.6  37.8   65.9   83.9\n",
       "4   36.7   666.4  38.4   64.5   85.5\n",
       "..   ...     ...   ...    ...    ...\n",
       "14  46.7  1575.5  63.7  130.9  165.5\n",
       "15  50.6  1759.1  61.6  129.8  203.3\n",
       "16  50.1  1994.2  58.9  128.0  219.6\n",
       "17  51.7  2258.1  66.4  141.0  221.6\n",
       "18  52.9  2478.7  70.4  168.2  232.6\n",
       "\n",
       "[19 rows x 5 columns]"
      ]
     },
     "execution_count": 69,
     "metadata": {},
     "output_type": "execute_result"
    }
   ],
   "source": [
    "data = pd.read_excel('задание1.xlsx')\n",
    "warnings.filterwarnings(\"ignore\")\n",
    "pd.set_option('display.max_rows', 10)\n",
    "pd.set_option('display.max_columns', 10)\n",
    "data = data.drop(\"t\",axis=1)\n",
    "data"
   ]
  },
  {
   "cell_type": "code",
   "execution_count": 70,
   "metadata": {},
   "outputs": [
    {
     "data": {
      "image/png": "[encoded data removed]",
      "text/plain": [
       "<Figure size 640x480 with 1 Axes>"
      ]
     },
     "metadata": {},
     "output_type": "display_data"
    },
    {
     "name": "stdout",
     "output_type": "stream",
     "text": [
      "Y = 0.44*X2\n"
     ]
    }
   ],
   "source": [
    "X = data[['X1', 'X2', 'X3', 'X4']]\n",
    "y = data['Y']\n",
    "X_train, X_test, y_train, y_test = train_test_split(X, y, test_size=0.2, random_state=42)\n",
    "\n",
    "\n",
    "model_demand = LinearRegression()\n",
    "model_demand.fit(X_train[['X2']], y_train)\n",
    "y_train_pred_demand = model_demand.predict(X_train[['X2']])\n",
    "y_test_pred_demand = model_demand.predict(X_test[['X2']])\n",
    "\n",
    "plt.scatter(X_test['X1'], y_test, color='black', label='Actual')\n",
    "plt.scatter(X_test['X1'], y_test_pred_demand, color='red', label='Consumption Prediction')\n",
    "plt.title('Demand Function')\n",
    "plt.xlabel('X2')\n",
    "plt.ylabel('Y')\n",
    "plt.legend()\n",
    "plt.show()\n",
    "\n",
    "print(f\"Y = {model_demand.coef_[0]:.2f}*X2\")"
   ]
  },
  {
   "cell_type": "code",
   "execution_count": 71,
   "metadata": {},
   "outputs": [
    {
     "data": {
      "image/png": "[encoded data removed]",
      "text/plain": [
       "<Figure size 640x480 with 1 Axes>"
      ]
     },
     "metadata": {},
     "output_type": "display_data"
    },
    {
     "name": "stdout",
     "output_type": "stream",
     "text": [
      "Y = 31.86 + 0.01*X1\n"
     ]
    }
   ],
   "source": [
    "model_consumption = LinearRegression()\n",
    "model_consumption.fit(X_train[['X1']], y_train)\n",
    "y_train_pred_consumption = model_consumption.predict(X_train[['X1']])\n",
    "y_test_pred_consumption = model_consumption.predict(X_test[['X1']])\n",
    "\n",
    "plt.scatter(X_test['X1'], y_test, color='black', label='Actual')\n",
    "plt.scatter(X_test['X1'], y_test_pred_consumption, color='blue', label='Consumption Prediction')\n",
    "plt.title('Consumption Function')\n",
    "plt.xlabel('X1')\n",
    "plt.ylabel('Y')\n",
    "plt.legend()\n",
    "plt.show()\n",
    "\n",
    "print(f\"Y = {model_consumption.intercept_:.2f} + {model_consumption.coef_[0]:.2f}*X1\")"
   ]
  },
  {
   "cell_type": "code",
   "execution_count": 72,
   "metadata": {},
   "outputs": [
    {
     "data": {
      "image/png": "[encoded data removed]",
      "text/plain": [
       "<Figure size 640x480 with 1 Axes>"
      ]
     },
     "metadata": {},
     "output_type": "display_data"
    },
    {
     "name": "stdout",
     "output_type": "stream",
     "text": [
      "Y = 33.14 + 0.01*X1 -0.04*X2\n"
     ]
    }
   ],
   "source": [
    "model_demand_consumption = LinearRegression()\n",
    "model_demand_consumption.fit(X_train[['X1', 'X2']], y_train)\n",
    "y_train_pred_demand_consumption = model_demand_consumption.predict(X_train[['X1', 'X2']])\n",
    "y_test_pred_demand_consumption = model_demand_consumption.predict(X_test[['X1', 'X2']])\n",
    "\n",
    "plt.scatter(X_test['X1'], y_test, color='black', label='Actual')\n",
    "plt.scatter(X_test['X1'], y_test_pred_demand_consumption, color='green', label='Demand-Consumption Prediction')\n",
    "plt.title('Demand-Consumption Function')\n",
    "plt.xlabel('X1')\n",
    "plt.ylabel('Y')\n",
    "plt.legend()\n",
    "plt.show()\n",
    "\n",
    "print(f\"Y = {model_demand_consumption.intercept_:.2f} + {model_demand_consumption.coef_[0]:.2f}*X1 {model_demand_consumption.coef_[1]:.2f}*X2\")"
   ]
  },
  {
   "cell_type": "code",
   "execution_count": 73,
   "metadata": {},
   "outputs": [
    {
     "data": {
      "image/png": "[encoded data removed]",
      "text/plain": [
       "<Figure size 640x480 with 1 Axes>"
      ]
     },
     "metadata": {},
     "output_type": "display_data"
    },
    {
     "name": "stdout",
     "output_type": "stream",
     "text": [
      "Y = 29.68 + 0.00*X1 -0.02*X2 -0.01*X3 + 0.09*X4\n"
     ]
    }
   ],
   "source": [
    "model_substitutes = LinearRegression()\n",
    "model_substitutes.fit(X_train[['X1', 'X2', 'X3', 'X4']], y_train)\n",
    "y_train_pred_substitutes = model_substitutes.predict(X_train[['X1', 'X2', 'X3', 'X4']])\n",
    "y_test_pred_substitutes = model_substitutes.predict(X_test[['X1', 'X2', 'X3', 'X4']])\n",
    "\n",
    "plt.scatter(X_test['X1'], y_test, color='black', label='Actual')\n",
    "plt.scatter(X_test['X1'], y_test_pred_substitutes, color='purple', label='Substitutes Prediction')\n",
    "plt.title('Substitutes Function')\n",
    "plt.xlabel('X1')\n",
    "plt.ylabel('Y')\n",
    "plt.legend()\n",
    "plt.show()\n",
    "\n",
    "print(f\"Y = {model_substitutes.intercept_:.2f} + {model_substitutes.coef_[0]:.2f}*X1 {model_substitutes.coef_[1]:.2f}*X2 {model_substitutes.coef_[2]:.2f}*X3 + {model_substitutes.coef_[3]:.2f}*X4\")"
   ]
  },
  {
   "cell_type": "code",
   "execution_count": 74,
   "metadata": {},
   "outputs": [
    {
     "name": "stdout",
     "output_type": "stream",
     "text": [
      "Тест Шапиро-Уилка для X1: Statistic=0.896443247795105, p-value=0.04197002574801445\n",
      "Тест Шапиро-Уилка для X2: Statistic=0.8548540472984314, p-value=0.008054640144109726\n",
      "Тест Шапиро-Уилка для X3: Statistic=0.89530348777771, p-value=0.04003702849149704\n",
      "Тест Шапиро-Уилка для X4: Statistic=0.8776261210441589, p-value=0.01952611841261387\n"
     ]
    }
   ],
   "source": [
    "X1 = data['X1']\n",
    "X2 = data['X2']\n",
    "X3 = data['X3']\n",
    "X4 = data['X4']\n",
    "\n",
    "\n",
    "stat_X1, p_value_X1 = shapiro(X1)\n",
    "stat_X2, p_value_X2 = shapiro(X2)\n",
    "stat_X3, p_value_X3 = shapiro(X3)\n",
    "stat_X4, p_value_X4 = shapiro(X4)\n",
    "\n",
    "print(f\"Тест Шапиро-Уилка для X1: Statistic={stat_X1}, p-value={p_value_X1}\")\n",
    "print(f\"Тест Шапиро-Уилка для X2: Statistic={stat_X2}, p-value={p_value_X2}\")\n",
    "print(f\"Тест Шапиро-Уилка для X3: Statistic={stat_X3}, p-value={p_value_X3}\")\n",
    "print(f\"Тест Шапиро-Уилка для X4: Statistic={stat_X4}, p-value={p_value_X4}\")\n"
   ]
  },
  {
   "cell_type": "code",
   "execution_count": 75,
   "metadata": {},
   "outputs": [
    {
     "data": {
      "text/html": [
       "<div>\n",
       "<style scoped>\n",
       "    .dataframe tbody tr th:only-of-type {\n",
       "        vertical-align: middle;\n",
       "    }\n",
       "\n",
       "    .dataframe tbody tr th {\n",
       "        vertical-align: top;\n",
       "    }\n",
       "\n",
       "    .dataframe thead th {\n",
       "        text-align: right;\n",
       "    }\n",
       "</style>\n",
       "<table border=\"1\" class=\"dataframe\">\n",
       "  <thead>\n",
       "    <tr style=\"text-align: right;\">\n",
       "      <th></th>\n",
       "      <th>X1</th>\n",
       "      <th>X2</th>\n",
       "      <th>X3</th>\n",
       "      <th>X4</th>\n",
       "    </tr>\n",
       "  </thead>\n",
       "  <tbody>\n",
       "    <tr>\n",
       "      <th>0</th>\n",
       "      <td>1.254619</td>\n",
       "      <td>0.577319</td>\n",
       "      <td>1.273006</td>\n",
       "      <td>0.728447</td>\n",
       "    </tr>\n",
       "    <tr>\n",
       "      <th>1</th>\n",
       "      <td>1.254766</td>\n",
       "      <td>0.577325</td>\n",
       "      <td>1.275098</td>\n",
       "      <td>0.728464</td>\n",
       "    </tr>\n",
       "    <tr>\n",
       "      <th>2</th>\n",
       "      <td>1.254889</td>\n",
       "      <td>0.577333</td>\n",
       "      <td>1.276364</td>\n",
       "      <td>0.728465</td>\n",
       "    </tr>\n",
       "    <tr>\n",
       "      <th>3</th>\n",
       "      <td>1.255120</td>\n",
       "      <td>0.577323</td>\n",
       "      <td>1.275567</td>\n",
       "      <td>0.728486</td>\n",
       "    </tr>\n",
       "    <tr>\n",
       "      <th>4</th>\n",
       "      <td>1.255257</td>\n",
       "      <td>0.577327</td>\n",
       "      <td>1.275270</td>\n",
       "      <td>0.728495</td>\n",
       "    </tr>\n",
       "    <tr>\n",
       "      <th>...</th>\n",
       "      <td>...</td>\n",
       "      <td>...</td>\n",
       "      <td>...</td>\n",
       "      <td>...</td>\n",
       "    </tr>\n",
       "    <tr>\n",
       "      <th>14</th>\n",
       "      <td>1.256971</td>\n",
       "      <td>0.577450</td>\n",
       "      <td>1.284895</td>\n",
       "      <td>0.728776</td>\n",
       "    </tr>\n",
       "    <tr>\n",
       "      <th>15</th>\n",
       "      <td>1.257163</td>\n",
       "      <td>0.577443</td>\n",
       "      <td>1.284786</td>\n",
       "      <td>0.728846</td>\n",
       "    </tr>\n",
       "    <tr>\n",
       "      <th>16</th>\n",
       "      <td>1.257372</td>\n",
       "      <td>0.577433</td>\n",
       "      <td>1.284605</td>\n",
       "      <td>0.728869</td>\n",
       "    </tr>\n",
       "    <tr>\n",
       "      <th>17</th>\n",
       "      <td>1.257567</td>\n",
       "      <td>0.577458</td>\n",
       "      <td>1.285847</td>\n",
       "      <td>0.728872</td>\n",
       "    </tr>\n",
       "    <tr>\n",
       "      <th>18</th>\n",
       "      <td>1.257706</td>\n",
       "      <td>0.577470</td>\n",
       "      <td>1.288028</td>\n",
       "      <td>0.728886</td>\n",
       "    </tr>\n",
       "  </tbody>\n",
       "</table>\n",
       "<p>19 rows × 4 columns</p>\n",
       "</div>"
      ],
      "text/plain": [
       "          X1        X2        X3        X4\n",
       "0   1.254619  0.577319  1.273006  0.728447\n",
       "1   1.254766  0.577325  1.275098  0.728464\n",
       "2   1.254889  0.577333  1.276364  0.728465\n",
       "3   1.255120  0.577323  1.275567  0.728486\n",
       "4   1.255257  0.577327  1.275270  0.728495\n",
       "..       ...       ...       ...       ...\n",
       "14  1.256971  0.577450  1.284895  0.728776\n",
       "15  1.257163  0.577443  1.284786  0.728846\n",
       "16  1.257372  0.577433  1.284605  0.728869\n",
       "17  1.257567  0.577458  1.285847  0.728872\n",
       "18  1.257706  0.577470  1.288028  0.728886\n",
       "\n",
       "[19 rows x 4 columns]"
      ]
     },
     "execution_count": 75,
     "metadata": {},
     "output_type": "execute_result"
    }
   ],
   "source": [
    "if p_value_X1 < 0.05:\n",
    "    X1_transformed, _ = boxcox(X1 + np.abs(X1.min()) + 1) \n",
    "\n",
    "if p_value_X2 < 0.05:\n",
    "    X2_transformed, _ = boxcox(X2 + np.abs(X2.min()) + 1)\n",
    "\n",
    "if p_value_X3 < 0.05:\n",
    "    X3_transformed, _ = boxcox(X3 + np.abs(X3.min()) + 1)\n",
    "\n",
    "if p_value_X4 < 0.05:\n",
    "    X4_transformed, _ = boxcox(X4 + np.abs(X4.min()) + 1)\n",
    "\n",
    "data_transformed = pd.DataFrame({\n",
    "    'X1': X1_transformed if p_value_X1 < 0.05 else X1,\n",
    "    'X2': X2_transformed if p_value_X2 < 0.05 else X2,\n",
    "    'X3': X3_transformed if p_value_X3 < 0.05 else X3,\n",
    "    'X4': X4_transformed if p_value_X4 < 0.05 else X4\n",
    "})\n",
    "data_transformed"
   ]
  },
  {
   "cell_type": "code",
   "execution_count": 76,
   "metadata": {},
   "outputs": [
    {
     "name": "stdout",
     "output_type": "stream",
     "text": [
      "Statistics=102.0, p-value=0.02277486537233766\n",
      "Существует статистически значимая разница между X3 и X4.\n"
     ]
    }
   ],
   "source": [
    "stat, p_value = mannwhitneyu(data['X3'], data['X4'])\n",
    "print(f'Statistics={stat}, p-value={p_value}')\n",
    "\n",
    "if p_value < 0.05:\n",
    "    print('Существует статистически значимая разница между X3 и X4.')\n",
    "else:\n",
    "    print('Нет статистически значимой разницы между X3 и X4.')"
   ]
  },
  {
   "cell_type": "code",
   "execution_count": 77,
   "metadata": {},
   "outputs": [
    {
     "name": "stdout",
     "output_type": "stream",
     "text": [
      "Statistics=16.797459660607196, p-value=4.158894013328987e-05\n",
      "Существует статистически значимая разница в дисперсии между X2 и X3.\n",
      "Statistics=-5.937606839472742, p-value=5.474644516999182e-06\n",
      "Существует статистически значимая разница между X2 и X3.\n"
     ]
    }
   ],
   "source": [
    "stat, p_value = fligner(data['X2'], data['X3'])\n",
    "print(f'Statistics={stat}, p-value={p_value}')\n",
    "\n",
    "if p_value < 0.05:\n",
    "    print('Существует статистически значимая разница в дисперсии между X2 и X3.')\n",
    "    stat, p_value = ttest_ind(data['X2'], data['X3'], equal_var=False)\n",
    "else:\n",
    "    print('Нет статистически значимой разницы в дисперсии между X2 и X3.')\n",
    "    stat, p_value = ttest_ind(data['X2'], data['X3'], equal_var=True)\n",
    "\n",
    "print(f'Statistics={stat}, p-value={p_value}')\n",
    "\n",
    "if p_value < 0.05:\n",
    "    print('Существует статистически значимая разница между X2 и X3.')\n",
    "else:\n",
    "    print('Нет статистически значимой разницы между X2 и X3.')"
   ]
  }
 ],
 "metadata": {
  "kernelspec": {
   "display_name": "Python 3",
   "language": "python",
   "name": "python3"
  },
  "language_info": {
   "codemirror_mode": {
    "name": "ipython",
    "version": 3
   },
   "file_extension": ".py",
   "mimetype": "text/x-python",
   "name": "python",
   "nbconvert_exporter": "python",
   "pygments_lexer": "ipython3",
   "version": "3.10.6"
  }
 },
 "nbformat": 4,
 "nbformat_minor": 2
}
